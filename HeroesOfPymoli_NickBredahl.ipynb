{
 "cells": [
  {
   "cell_type": "code",
   "execution_count": 1,
   "metadata": {},
   "outputs": [],
   "source": [
    "#Import Dependencies\n",
    "import pandas as pd\n",
    "import numpy as np"
   ]
  },
  {
   "cell_type": "code",
   "execution_count": 2,
   "metadata": {},
   "outputs": [
    {
     "data": {
      "text/html": [
       "<div>\n",
       "<style scoped>\n",
       "    .dataframe tbody tr th:only-of-type {\n",
       "        vertical-align: middle;\n",
       "    }\n",
       "\n",
       "    .dataframe tbody tr th {\n",
       "        vertical-align: top;\n",
       "    }\n",
       "\n",
       "    .dataframe thead th {\n",
       "        text-align: right;\n",
       "    }\n",
       "</style>\n",
       "<table border=\"1\" class=\"dataframe\">\n",
       "  <thead>\n",
       "    <tr style=\"text-align: right;\">\n",
       "      <th></th>\n",
       "      <th>Purchase ID</th>\n",
       "      <th>SN</th>\n",
       "      <th>Age</th>\n",
       "      <th>Gender</th>\n",
       "      <th>Item ID</th>\n",
       "      <th>Item Name</th>\n",
       "      <th>Price</th>\n",
       "    </tr>\n",
       "  </thead>\n",
       "  <tbody>\n",
       "    <tr>\n",
       "      <th>0</th>\n",
       "      <td>0</td>\n",
       "      <td>Lisim78</td>\n",
       "      <td>20</td>\n",
       "      <td>Male</td>\n",
       "      <td>108</td>\n",
       "      <td>Extraction, Quickblade Of Trembling Hands</td>\n",
       "      <td>3.53</td>\n",
       "    </tr>\n",
       "    <tr>\n",
       "      <th>1</th>\n",
       "      <td>1</td>\n",
       "      <td>Lisovynya38</td>\n",
       "      <td>40</td>\n",
       "      <td>Male</td>\n",
       "      <td>143</td>\n",
       "      <td>Frenzied Scimitar</td>\n",
       "      <td>1.56</td>\n",
       "    </tr>\n",
       "    <tr>\n",
       "      <th>2</th>\n",
       "      <td>2</td>\n",
       "      <td>Ithergue48</td>\n",
       "      <td>24</td>\n",
       "      <td>Male</td>\n",
       "      <td>92</td>\n",
       "      <td>Final Critic</td>\n",
       "      <td>4.88</td>\n",
       "    </tr>\n",
       "    <tr>\n",
       "      <th>3</th>\n",
       "      <td>3</td>\n",
       "      <td>Chamassasya86</td>\n",
       "      <td>24</td>\n",
       "      <td>Male</td>\n",
       "      <td>100</td>\n",
       "      <td>Blindscythe</td>\n",
       "      <td>3.27</td>\n",
       "    </tr>\n",
       "    <tr>\n",
       "      <th>4</th>\n",
       "      <td>4</td>\n",
       "      <td>Iskosia90</td>\n",
       "      <td>23</td>\n",
       "      <td>Male</td>\n",
       "      <td>131</td>\n",
       "      <td>Fury</td>\n",
       "      <td>1.44</td>\n",
       "    </tr>\n",
       "  </tbody>\n",
       "</table>\n",
       "</div>"
      ],
      "text/plain": [
       "   Purchase ID             SN  Age Gender  Item ID  \\\n",
       "0            0        Lisim78   20   Male      108   \n",
       "1            1    Lisovynya38   40   Male      143   \n",
       "2            2     Ithergue48   24   Male       92   \n",
       "3            3  Chamassasya86   24   Male      100   \n",
       "4            4      Iskosia90   23   Male      131   \n",
       "\n",
       "                                   Item Name  Price  \n",
       "0  Extraction, Quickblade Of Trembling Hands   3.53  \n",
       "1                          Frenzied Scimitar   1.56  \n",
       "2                               Final Critic   4.88  \n",
       "3                                Blindscythe   3.27  \n",
       "4                                       Fury   1.44  "
      ]
     },
     "execution_count": 2,
     "metadata": {},
     "output_type": "execute_result"
    }
   ],
   "source": [
    "# File to Load (Remember to Change These)\n",
    "file_to_load = \"Resources/purchase_data.csv\"\n",
    "\n",
    "# Read Purchasing File and store into Pandas data frame\n",
    "purchase_data = pd.read_csv(file_to_load)\n",
    "purchase_data.head()"
   ]
  },
  {
   "cell_type": "markdown",
   "metadata": {},
   "source": [
    "# Player Count"
   ]
  },
  {
   "cell_type": "code",
   "execution_count": 3,
   "metadata": {},
   "outputs": [
    {
     "data": {
      "text/html": [
       "<div>\n",
       "<style scoped>\n",
       "    .dataframe tbody tr th:only-of-type {\n",
       "        vertical-align: middle;\n",
       "    }\n",
       "\n",
       "    .dataframe tbody tr th {\n",
       "        vertical-align: top;\n",
       "    }\n",
       "\n",
       "    .dataframe thead th {\n",
       "        text-align: right;\n",
       "    }\n",
       "</style>\n",
       "<table border=\"1\" class=\"dataframe\">\n",
       "  <thead>\n",
       "    <tr style=\"text-align: right;\">\n",
       "      <th></th>\n",
       "      <th>Total Players</th>\n",
       "    </tr>\n",
       "  </thead>\n",
       "  <tbody>\n",
       "    <tr>\n",
       "      <th>0</th>\n",
       "      <td>576</td>\n",
       "    </tr>\n",
       "  </tbody>\n",
       "</table>\n",
       "</div>"
      ],
      "text/plain": [
       "   Total Players\n",
       "0            576"
      ]
     },
     "execution_count": 3,
     "metadata": {},
     "output_type": "execute_result"
    }
   ],
   "source": [
    "# Calculate toal number of players\n",
    "player_count = purchase_data['SN'].nunique()\n",
    "player_count_df = pd.DataFrame({\"Total Players\": [player_count]}, columns= [\"Total Players\"])\n",
    "player_count_df"
   ]
  },
  {
   "cell_type": "markdown",
   "metadata": {},
   "source": [
    "# Purchasing Analysis (Total)"
   ]
  },
  {
   "cell_type": "code",
   "execution_count": 4,
   "metadata": {},
   "outputs": [
    {
     "data": {
      "text/html": [
       "<style  type=\"text/css\" >\n",
       "</style><table id=\"T_29133cbc_c0fb_11e9_8d9b_7831c1b7f7c4\" ><thead>    <tr>        <th class=\"blank level0\" ></th>        <th class=\"col_heading level0 col0\" >Number of Unique Items</th>        <th class=\"col_heading level0 col1\" >Average Price</th>        <th class=\"col_heading level0 col2\" >Number of Purchases</th>        <th class=\"col_heading level0 col3\" >Total Revenue</th>    </tr></thead><tbody>\n",
       "                <tr>\n",
       "                        <th id=\"T_29133cbc_c0fb_11e9_8d9b_7831c1b7f7c4level0_row0\" class=\"row_heading level0 row0\" >0</th>\n",
       "                        <td id=\"T_29133cbc_c0fb_11e9_8d9b_7831c1b7f7c4row0_col0\" class=\"data row0 col0\" >183</td>\n",
       "                        <td id=\"T_29133cbc_c0fb_11e9_8d9b_7831c1b7f7c4row0_col1\" class=\"data row0 col1\" >$3.05</td>\n",
       "                        <td id=\"T_29133cbc_c0fb_11e9_8d9b_7831c1b7f7c4row0_col2\" class=\"data row0 col2\" >780</td>\n",
       "                        <td id=\"T_29133cbc_c0fb_11e9_8d9b_7831c1b7f7c4row0_col3\" class=\"data row0 col3\" >$2379.77</td>\n",
       "            </tr>\n",
       "    </tbody></table>"
      ],
      "text/plain": [
       "<pandas.io.formats.style.Styler at 0x11a4e25f8>"
      ]
     },
     "execution_count": 4,
     "metadata": {},
     "output_type": "execute_result"
    }
   ],
   "source": [
    "# Calculate number of unique items, average purchase, total purchases, and total revenue\n",
    "unique_items = purchase_data['Item ID'].nunique()\n",
    "average_price = purchase_data['Price'].mean()\n",
    "total_purchases = purchase_data['Price'].count()\n",
    "total_revenue = purchase_data['Price'].sum()\n",
    "\n",
    "\n",
    "# Create a summary data frame to hold the results\n",
    "purchasing_analysis = {\n",
    "    'Number of Unique Items': [unique_items],\n",
    "    'Average Price': [average_price],\n",
    "    'Number of Purchases' : [total_purchases],\n",
    "    'Total Revenue': [total_revenue]}\n",
    "\n",
    "purchasing_analysis_df = pd.DataFrame(purchasing_analysis)\n",
    "\n",
    "# Rename and format columns\n",
    "purchasing_analysis_df.style.format({'Average Price' : '${:.2f}', 'Total Revenue' : '${:.2f}'})"
   ]
  },
  {
   "cell_type": "markdown",
   "metadata": {},
   "source": [
    "# Gender Demographics "
   ]
  },
  {
   "cell_type": "code",
   "execution_count": 5,
   "metadata": {},
   "outputs": [
    {
     "data": {
      "text/html": [
       "<div>\n",
       "<style scoped>\n",
       "    .dataframe tbody tr th:only-of-type {\n",
       "        vertical-align: middle;\n",
       "    }\n",
       "\n",
       "    .dataframe tbody tr th {\n",
       "        vertical-align: top;\n",
       "    }\n",
       "\n",
       "    .dataframe thead th {\n",
       "        text-align: right;\n",
       "    }\n",
       "</style>\n",
       "<table border=\"1\" class=\"dataframe\">\n",
       "  <thead>\n",
       "    <tr style=\"text-align: right;\">\n",
       "      <th></th>\n",
       "      <th>Total Count</th>\n",
       "      <th>Percentage of Players</th>\n",
       "    </tr>\n",
       "  </thead>\n",
       "  <tbody>\n",
       "    <tr>\n",
       "      <th>Male</th>\n",
       "      <td>484</td>\n",
       "      <td>84.03</td>\n",
       "    </tr>\n",
       "    <tr>\n",
       "      <th>Female</th>\n",
       "      <td>81</td>\n",
       "      <td>14.06</td>\n",
       "    </tr>\n",
       "    <tr>\n",
       "      <th>Other / Non-Disclosed</th>\n",
       "      <td>11</td>\n",
       "      <td>1.91</td>\n",
       "    </tr>\n",
       "  </tbody>\n",
       "</table>\n",
       "</div>"
      ],
      "text/plain": [
       "                       Total Count  Percentage of Players\n",
       "Male                           484                  84.03\n",
       "Female                          81                  14.06\n",
       "Other / Non-Disclosed           11                   1.91"
      ]
     },
     "execution_count": 5,
     "metadata": {},
     "output_type": "execute_result"
    }
   ],
   "source": [
    "# Count male, female, other/non-disclosed players\n",
    "no_duplicates_gender = purchase_data.drop_duplicates(['SN'])\n",
    "player_gender_counts = no_duplicates_gender['Gender'].value_counts()\n",
    "\n",
    "# Calculate percentage of male, female, other/non-disclosed players\n",
    "player_total = no_duplicates_gender['Gender'].count()\n",
    "gender_percentages = player_gender_counts / player_total * 100\n",
    "\n",
    "# Round and rename columns\n",
    "gender_percentages_final = gender_percentages.round(2)\n",
    "gender_demographics = pd.DataFrame({\"Total Count\" : player_gender_counts, \"Percentage of Players\" : gender_percentages_final})\n",
    "gender_demographics\n"
   ]
  },
  {
   "cell_type": "markdown",
   "metadata": {},
   "source": [
    "# Purchasing Analysis (Gender)"
   ]
  },
  {
   "cell_type": "code",
   "execution_count": 6,
   "metadata": {
    "scrolled": true
   },
   "outputs": [
    {
     "data": {
      "text/html": [
       "<style  type=\"text/css\" >\n",
       "</style><table id=\"T_2aabde8a_c0fb_11e9_8d9b_7831c1b7f7c4\" ><thead>    <tr>        <th class=\"blank level0\" ></th>        <th class=\"col_heading level0 col0\" >Purchase Count</th>        <th class=\"col_heading level0 col1\" >Total Purchase Value</th>        <th class=\"col_heading level0 col2\" >Average Purchase Price</th>        <th class=\"col_heading level0 col3\" >Avg Total Purchase per Person</th>    </tr>    <tr>        <th class=\"index_name level0\" >Gender</th>        <th class=\"blank\" ></th>        <th class=\"blank\" ></th>        <th class=\"blank\" ></th>        <th class=\"blank\" ></th>    </tr></thead><tbody>\n",
       "                <tr>\n",
       "                        <th id=\"T_2aabde8a_c0fb_11e9_8d9b_7831c1b7f7c4level0_row0\" class=\"row_heading level0 row0\" >Female</th>\n",
       "                        <td id=\"T_2aabde8a_c0fb_11e9_8d9b_7831c1b7f7c4row0_col0\" class=\"data row0 col0\" >113</td>\n",
       "                        <td id=\"T_2aabde8a_c0fb_11e9_8d9b_7831c1b7f7c4row0_col1\" class=\"data row0 col1\" >$361.94</td>\n",
       "                        <td id=\"T_2aabde8a_c0fb_11e9_8d9b_7831c1b7f7c4row0_col2\" class=\"data row0 col2\" >$3.20</td>\n",
       "                        <td id=\"T_2aabde8a_c0fb_11e9_8d9b_7831c1b7f7c4row0_col3\" class=\"data row0 col3\" >$4.47</td>\n",
       "            </tr>\n",
       "            <tr>\n",
       "                        <th id=\"T_2aabde8a_c0fb_11e9_8d9b_7831c1b7f7c4level0_row1\" class=\"row_heading level0 row1\" >Male</th>\n",
       "                        <td id=\"T_2aabde8a_c0fb_11e9_8d9b_7831c1b7f7c4row1_col0\" class=\"data row1 col0\" >652</td>\n",
       "                        <td id=\"T_2aabde8a_c0fb_11e9_8d9b_7831c1b7f7c4row1_col1\" class=\"data row1 col1\" >$1,967.64</td>\n",
       "                        <td id=\"T_2aabde8a_c0fb_11e9_8d9b_7831c1b7f7c4row1_col2\" class=\"data row1 col2\" >$3.02</td>\n",
       "                        <td id=\"T_2aabde8a_c0fb_11e9_8d9b_7831c1b7f7c4row1_col3\" class=\"data row1 col3\" >$4.07</td>\n",
       "            </tr>\n",
       "            <tr>\n",
       "                        <th id=\"T_2aabde8a_c0fb_11e9_8d9b_7831c1b7f7c4level0_row2\" class=\"row_heading level0 row2\" >Other / Non-Disclosed</th>\n",
       "                        <td id=\"T_2aabde8a_c0fb_11e9_8d9b_7831c1b7f7c4row2_col0\" class=\"data row2 col0\" >15</td>\n",
       "                        <td id=\"T_2aabde8a_c0fb_11e9_8d9b_7831c1b7f7c4row2_col1\" class=\"data row2 col1\" >$50.19</td>\n",
       "                        <td id=\"T_2aabde8a_c0fb_11e9_8d9b_7831c1b7f7c4row2_col2\" class=\"data row2 col2\" >$3.35</td>\n",
       "                        <td id=\"T_2aabde8a_c0fb_11e9_8d9b_7831c1b7f7c4row2_col3\" class=\"data row2 col3\" >$4.56</td>\n",
       "            </tr>\n",
       "    </tbody></table>"
      ],
      "text/plain": [
       "<pandas.io.formats.style.Styler at 0x11b50e0f0>"
      ]
     },
     "execution_count": 6,
     "metadata": {},
     "output_type": "execute_result"
    }
   ],
   "source": [
    "# Calculate purchase count and total purchases\n",
    "purchase_count_gender = pd.DataFrame(purchase_data.groupby('Gender')['Gender'].count())\n",
    "total_purchase_gender = pd.DataFrame(purchase_data.groupby('Gender')['Price'].sum())\n",
    "\n",
    "# Merge dataframes for purchase count and total purchases\n",
    "purchasing_analysis_gender = pd.merge(purchase_count_gender, total_purchase_gender, left_index = True, right_index = True)\n",
    "\n",
    "# Rename columns\n",
    "purchasing_analysis_gender.columns = ['Purchase Count' , 'Total Purchase Value']\n",
    "\n",
    "# Calculate average purchase price and average total purchase per person and add these new columns\n",
    "purchasing_analysis_gender['Average Purchase Price'] = purchasing_analysis_gender['Total Purchase Value'] / purchasing_analysis_gender['Purchase Count']\n",
    "purchasing_analysis_gender['Avg Total Purchase per Person'] = purchasing_analysis_gender['Total Purchase Value'] / player_gender_counts\n",
    "\n",
    "# Format columns \n",
    "purchasing_analysis_gender.style.format({'Total Purchase Value' : '${:,.2f}', 'Average Purchase Price' : '${:.2f}', 'Avg Total Purchase per Person' : '${:.2f}'})\n"
   ]
  },
  {
   "cell_type": "markdown",
   "metadata": {},
   "source": [
    "# Age Demographics"
   ]
  },
  {
   "cell_type": "code",
   "execution_count": 7,
   "metadata": {},
   "outputs": [
    {
     "name": "stderr",
     "output_type": "stream",
     "text": [
      "/Users/nickbredahl/anaconda3/lib/python3.7/site-packages/ipykernel_launcher.py:8: SettingWithCopyWarning: \n",
      "A value is trying to be set on a copy of a slice from a DataFrame.\n",
      "Try using .loc[row_indexer,col_indexer] = value instead\n",
      "\n",
      "See the caveats in the documentation: http://pandas.pydata.org/pandas-docs/stable/indexing.html#indexing-view-versus-copy\n",
      "  \n"
     ]
    },
    {
     "data": {
      "text/html": [
       "<style  type=\"text/css\" >\n",
       "</style><table id=\"T_2b86d3be_c0fb_11e9_8d9b_7831c1b7f7c4\" ><thead>    <tr>        <th class=\"blank level0\" ></th>        <th class=\"col_heading level0 col0\" >Total Count</th>        <th class=\"col_heading level0 col1\" >Percentage of Players</th>    </tr>    <tr>        <th class=\"index_name level0\" >Age Range</th>        <th class=\"blank\" ></th>        <th class=\"blank\" ></th>    </tr></thead><tbody>\n",
       "                <tr>\n",
       "                        <th id=\"T_2b86d3be_c0fb_11e9_8d9b_7831c1b7f7c4level0_row0\" class=\"row_heading level0 row0\" ><10</th>\n",
       "                        <td id=\"T_2b86d3be_c0fb_11e9_8d9b_7831c1b7f7c4row0_col0\" class=\"data row0 col0\" >17</td>\n",
       "                        <td id=\"T_2b86d3be_c0fb_11e9_8d9b_7831c1b7f7c4row0_col1\" class=\"data row0 col1\" >2.95</td>\n",
       "            </tr>\n",
       "            <tr>\n",
       "                        <th id=\"T_2b86d3be_c0fb_11e9_8d9b_7831c1b7f7c4level0_row1\" class=\"row_heading level0 row1\" >10-14</th>\n",
       "                        <td id=\"T_2b86d3be_c0fb_11e9_8d9b_7831c1b7f7c4row1_col0\" class=\"data row1 col0\" >22</td>\n",
       "                        <td id=\"T_2b86d3be_c0fb_11e9_8d9b_7831c1b7f7c4row1_col1\" class=\"data row1 col1\" >3.82</td>\n",
       "            </tr>\n",
       "            <tr>\n",
       "                        <th id=\"T_2b86d3be_c0fb_11e9_8d9b_7831c1b7f7c4level0_row2\" class=\"row_heading level0 row2\" >15-19</th>\n",
       "                        <td id=\"T_2b86d3be_c0fb_11e9_8d9b_7831c1b7f7c4row2_col0\" class=\"data row2 col0\" >107</td>\n",
       "                        <td id=\"T_2b86d3be_c0fb_11e9_8d9b_7831c1b7f7c4row2_col1\" class=\"data row2 col1\" >18.58</td>\n",
       "            </tr>\n",
       "            <tr>\n",
       "                        <th id=\"T_2b86d3be_c0fb_11e9_8d9b_7831c1b7f7c4level0_row3\" class=\"row_heading level0 row3\" >20-24</th>\n",
       "                        <td id=\"T_2b86d3be_c0fb_11e9_8d9b_7831c1b7f7c4row3_col0\" class=\"data row3 col0\" >258</td>\n",
       "                        <td id=\"T_2b86d3be_c0fb_11e9_8d9b_7831c1b7f7c4row3_col1\" class=\"data row3 col1\" >44.79</td>\n",
       "            </tr>\n",
       "            <tr>\n",
       "                        <th id=\"T_2b86d3be_c0fb_11e9_8d9b_7831c1b7f7c4level0_row4\" class=\"row_heading level0 row4\" >25-29</th>\n",
       "                        <td id=\"T_2b86d3be_c0fb_11e9_8d9b_7831c1b7f7c4row4_col0\" class=\"data row4 col0\" >77</td>\n",
       "                        <td id=\"T_2b86d3be_c0fb_11e9_8d9b_7831c1b7f7c4row4_col1\" class=\"data row4 col1\" >13.37</td>\n",
       "            </tr>\n",
       "            <tr>\n",
       "                        <th id=\"T_2b86d3be_c0fb_11e9_8d9b_7831c1b7f7c4level0_row5\" class=\"row_heading level0 row5\" >30-34</th>\n",
       "                        <td id=\"T_2b86d3be_c0fb_11e9_8d9b_7831c1b7f7c4row5_col0\" class=\"data row5 col0\" >52</td>\n",
       "                        <td id=\"T_2b86d3be_c0fb_11e9_8d9b_7831c1b7f7c4row5_col1\" class=\"data row5 col1\" >9.03</td>\n",
       "            </tr>\n",
       "            <tr>\n",
       "                        <th id=\"T_2b86d3be_c0fb_11e9_8d9b_7831c1b7f7c4level0_row6\" class=\"row_heading level0 row6\" >35-39</th>\n",
       "                        <td id=\"T_2b86d3be_c0fb_11e9_8d9b_7831c1b7f7c4row6_col0\" class=\"data row6 col0\" >31</td>\n",
       "                        <td id=\"T_2b86d3be_c0fb_11e9_8d9b_7831c1b7f7c4row6_col1\" class=\"data row6 col1\" >5.38</td>\n",
       "            </tr>\n",
       "            <tr>\n",
       "                        <th id=\"T_2b86d3be_c0fb_11e9_8d9b_7831c1b7f7c4level0_row7\" class=\"row_heading level0 row7\" >40+</th>\n",
       "                        <td id=\"T_2b86d3be_c0fb_11e9_8d9b_7831c1b7f7c4row7_col0\" class=\"data row7 col0\" >12</td>\n",
       "                        <td id=\"T_2b86d3be_c0fb_11e9_8d9b_7831c1b7f7c4row7_col1\" class=\"data row7 col1\" >2.08</td>\n",
       "            </tr>\n",
       "    </tbody></table>"
      ],
      "text/plain": [
       "<pandas.io.formats.style.Styler at 0x11b50e128>"
      ]
     },
     "execution_count": 7,
     "metadata": {},
     "output_type": "execute_result"
    }
   ],
   "source": [
    "# Establish bins for ages\n",
    "no_duplicates_age = purchase_data.drop_duplicates(['SN'])\n",
    "\n",
    "bins = [0, 9, 14, 19, 24, 29, 34, 39, 120]\n",
    "group_names = [\"<10\", \"10-14\", \"15-19\", \"20-24\", \"25-29\", \"30-34\", \"35-39\", \"40+\"]\n",
    "\n",
    "# Categorize the existing players using the age bins\n",
    "no_duplicates_age['Age Range'] = pd.cut(no_duplicates_age['Age'], bins, labels=group_names)\n",
    "age_groups_df = no_duplicates_age.groupby(\"Age Range\")\n",
    "\n",
    "# Calculate the numbers and percentages by age group\n",
    "age_demographics = pd.DataFrame(age_groups_df[\"Age\"].count())\n",
    "age_total = no_duplicates_age[\"Age\"].count()\n",
    "age_demographics['Percentage of Players']= (age_demographics['Age'] / age_total) * 100\n",
    "\n",
    "# Rename columns and format\n",
    "age_demographics.columns = ['Total Count' , 'Percentage of Players']\n",
    "age_demographics.style.format({'Percentage of Players' : '{:.2f}'})\n"
   ]
  },
  {
   "cell_type": "markdown",
   "metadata": {},
   "source": [
    "# Purchasing Analysis (Age)"
   ]
  },
  {
   "cell_type": "code",
   "execution_count": 8,
   "metadata": {},
   "outputs": [
    {
     "data": {
      "text/html": [
       "<style  type=\"text/css\" >\n",
       "</style><table id=\"T_2ce6c0e8_c0fb_11e9_8d9b_7831c1b7f7c4\" ><thead>    <tr>        <th class=\"blank level0\" ></th>        <th class=\"col_heading level0 col0\" >Purchase Count</th>        <th class=\"col_heading level0 col1\" >Average Purchase Price</th>        <th class=\"col_heading level0 col2\" >Total Purchase Value</th>        <th class=\"col_heading level0 col3\" >Avg Total Purchase per Person</th>    </tr>    <tr>        <th class=\"index_name level0\" >Age Range</th>        <th class=\"blank\" ></th>        <th class=\"blank\" ></th>        <th class=\"blank\" ></th>        <th class=\"blank\" ></th>    </tr></thead><tbody>\n",
       "                <tr>\n",
       "                        <th id=\"T_2ce6c0e8_c0fb_11e9_8d9b_7831c1b7f7c4level0_row0\" class=\"row_heading level0 row0\" ><10</th>\n",
       "                        <td id=\"T_2ce6c0e8_c0fb_11e9_8d9b_7831c1b7f7c4row0_col0\" class=\"data row0 col0\" >23</td>\n",
       "                        <td id=\"T_2ce6c0e8_c0fb_11e9_8d9b_7831c1b7f7c4row0_col1\" class=\"data row0 col1\" >$3.35</td>\n",
       "                        <td id=\"T_2ce6c0e8_c0fb_11e9_8d9b_7831c1b7f7c4row0_col2\" class=\"data row0 col2\" >$77.13</td>\n",
       "                        <td id=\"T_2ce6c0e8_c0fb_11e9_8d9b_7831c1b7f7c4row0_col3\" class=\"data row0 col3\" >$4.54</td>\n",
       "            </tr>\n",
       "            <tr>\n",
       "                        <th id=\"T_2ce6c0e8_c0fb_11e9_8d9b_7831c1b7f7c4level0_row1\" class=\"row_heading level0 row1\" >10-14</th>\n",
       "                        <td id=\"T_2ce6c0e8_c0fb_11e9_8d9b_7831c1b7f7c4row1_col0\" class=\"data row1 col0\" >28</td>\n",
       "                        <td id=\"T_2ce6c0e8_c0fb_11e9_8d9b_7831c1b7f7c4row1_col1\" class=\"data row1 col1\" >$2.96</td>\n",
       "                        <td id=\"T_2ce6c0e8_c0fb_11e9_8d9b_7831c1b7f7c4row1_col2\" class=\"data row1 col2\" >$82.78</td>\n",
       "                        <td id=\"T_2ce6c0e8_c0fb_11e9_8d9b_7831c1b7f7c4row1_col3\" class=\"data row1 col3\" >$3.76</td>\n",
       "            </tr>\n",
       "            <tr>\n",
       "                        <th id=\"T_2ce6c0e8_c0fb_11e9_8d9b_7831c1b7f7c4level0_row2\" class=\"row_heading level0 row2\" >15-19</th>\n",
       "                        <td id=\"T_2ce6c0e8_c0fb_11e9_8d9b_7831c1b7f7c4row2_col0\" class=\"data row2 col0\" >136</td>\n",
       "                        <td id=\"T_2ce6c0e8_c0fb_11e9_8d9b_7831c1b7f7c4row2_col1\" class=\"data row2 col1\" >$3.04</td>\n",
       "                        <td id=\"T_2ce6c0e8_c0fb_11e9_8d9b_7831c1b7f7c4row2_col2\" class=\"data row2 col2\" >$412.89</td>\n",
       "                        <td id=\"T_2ce6c0e8_c0fb_11e9_8d9b_7831c1b7f7c4row2_col3\" class=\"data row2 col3\" >$3.86</td>\n",
       "            </tr>\n",
       "            <tr>\n",
       "                        <th id=\"T_2ce6c0e8_c0fb_11e9_8d9b_7831c1b7f7c4level0_row3\" class=\"row_heading level0 row3\" >20-24</th>\n",
       "                        <td id=\"T_2ce6c0e8_c0fb_11e9_8d9b_7831c1b7f7c4row3_col0\" class=\"data row3 col0\" >365</td>\n",
       "                        <td id=\"T_2ce6c0e8_c0fb_11e9_8d9b_7831c1b7f7c4row3_col1\" class=\"data row3 col1\" >$3.05</td>\n",
       "                        <td id=\"T_2ce6c0e8_c0fb_11e9_8d9b_7831c1b7f7c4row3_col2\" class=\"data row3 col2\" >$1,114.06</td>\n",
       "                        <td id=\"T_2ce6c0e8_c0fb_11e9_8d9b_7831c1b7f7c4row3_col3\" class=\"data row3 col3\" >$4.32</td>\n",
       "            </tr>\n",
       "            <tr>\n",
       "                        <th id=\"T_2ce6c0e8_c0fb_11e9_8d9b_7831c1b7f7c4level0_row4\" class=\"row_heading level0 row4\" >25-29</th>\n",
       "                        <td id=\"T_2ce6c0e8_c0fb_11e9_8d9b_7831c1b7f7c4row4_col0\" class=\"data row4 col0\" >101</td>\n",
       "                        <td id=\"T_2ce6c0e8_c0fb_11e9_8d9b_7831c1b7f7c4row4_col1\" class=\"data row4 col1\" >$2.90</td>\n",
       "                        <td id=\"T_2ce6c0e8_c0fb_11e9_8d9b_7831c1b7f7c4row4_col2\" class=\"data row4 col2\" >$293.00</td>\n",
       "                        <td id=\"T_2ce6c0e8_c0fb_11e9_8d9b_7831c1b7f7c4row4_col3\" class=\"data row4 col3\" >$3.81</td>\n",
       "            </tr>\n",
       "            <tr>\n",
       "                        <th id=\"T_2ce6c0e8_c0fb_11e9_8d9b_7831c1b7f7c4level0_row5\" class=\"row_heading level0 row5\" >30-34</th>\n",
       "                        <td id=\"T_2ce6c0e8_c0fb_11e9_8d9b_7831c1b7f7c4row5_col0\" class=\"data row5 col0\" >73</td>\n",
       "                        <td id=\"T_2ce6c0e8_c0fb_11e9_8d9b_7831c1b7f7c4row5_col1\" class=\"data row5 col1\" >$2.93</td>\n",
       "                        <td id=\"T_2ce6c0e8_c0fb_11e9_8d9b_7831c1b7f7c4row5_col2\" class=\"data row5 col2\" >$214.00</td>\n",
       "                        <td id=\"T_2ce6c0e8_c0fb_11e9_8d9b_7831c1b7f7c4row5_col3\" class=\"data row5 col3\" >$4.12</td>\n",
       "            </tr>\n",
       "            <tr>\n",
       "                        <th id=\"T_2ce6c0e8_c0fb_11e9_8d9b_7831c1b7f7c4level0_row6\" class=\"row_heading level0 row6\" >35-39</th>\n",
       "                        <td id=\"T_2ce6c0e8_c0fb_11e9_8d9b_7831c1b7f7c4row6_col0\" class=\"data row6 col0\" >41</td>\n",
       "                        <td id=\"T_2ce6c0e8_c0fb_11e9_8d9b_7831c1b7f7c4row6_col1\" class=\"data row6 col1\" >$3.60</td>\n",
       "                        <td id=\"T_2ce6c0e8_c0fb_11e9_8d9b_7831c1b7f7c4row6_col2\" class=\"data row6 col2\" >$147.67</td>\n",
       "                        <td id=\"T_2ce6c0e8_c0fb_11e9_8d9b_7831c1b7f7c4row6_col3\" class=\"data row6 col3\" >$4.76</td>\n",
       "            </tr>\n",
       "            <tr>\n",
       "                        <th id=\"T_2ce6c0e8_c0fb_11e9_8d9b_7831c1b7f7c4level0_row7\" class=\"row_heading level0 row7\" >40+</th>\n",
       "                        <td id=\"T_2ce6c0e8_c0fb_11e9_8d9b_7831c1b7f7c4row7_col0\" class=\"data row7 col0\" >13</td>\n",
       "                        <td id=\"T_2ce6c0e8_c0fb_11e9_8d9b_7831c1b7f7c4row7_col1\" class=\"data row7 col1\" >$2.94</td>\n",
       "                        <td id=\"T_2ce6c0e8_c0fb_11e9_8d9b_7831c1b7f7c4row7_col2\" class=\"data row7 col2\" >$38.24</td>\n",
       "                        <td id=\"T_2ce6c0e8_c0fb_11e9_8d9b_7831c1b7f7c4row7_col3\" class=\"data row7 col3\" >$3.19</td>\n",
       "            </tr>\n",
       "    </tbody></table>"
      ],
      "text/plain": [
       "<pandas.io.formats.style.Styler at 0x11b522cc0>"
      ]
     },
     "execution_count": 8,
     "metadata": {},
     "output_type": "execute_result"
    }
   ],
   "source": [
    "# Calculate purchase count by age group\n",
    "purchase_data['Age Range'] = pd.cut(purchase_data['Age'], bins, labels=group_names)\n",
    "age_groups_df_2 = purchase_data.groupby(\"Age Range\")\n",
    "age_demographics_2 = pd.DataFrame(age_groups_df_2[\"Price\"].count())\n",
    "\n",
    "# Calculate average purchase price, total purchase value, and average total purchase per person and add these new columns\n",
    "age_demographics_2_sum = pd.DataFrame(age_groups_df_2[\"Price\"].sum())\n",
    "age_total_2 = purchase_data[\"Price\"].count()\n",
    "\n",
    "age_demographics_2['Average Purchase Price'] = age_demographics_2_sum['Price'] / age_demographics_2['Price']\n",
    "age_demographics_2['Total Purchase Value'] = age_demographics_2_sum['Price']\n",
    "\n",
    "player_age_counts = no_duplicates_age['Age Range'].value_counts()\n",
    "age_demographics_2['Avg Total Purchase per Person'] = age_demographics_2_sum['Price'] / player_age_counts\n",
    "\n",
    "# Format column names and dollar amounts\n",
    "age_demographics_2.columns = ['Purchase Count' , 'Average Purchase Price', 'Total Purchase Value', \"Avg Total Purchase per Person\"]\n",
    "age_demographics_2.style.format({'Average Purchase Price' : '${:.2f}', 'Total Purchase Value' : '${:,.2f}', 'Avg Total Purchase per Person' : '${:.2f}'})"
   ]
  },
  {
   "cell_type": "markdown",
   "metadata": {},
   "source": [
    "# Top Spenders"
   ]
  },
  {
   "cell_type": "code",
   "execution_count": 9,
   "metadata": {},
   "outputs": [
    {
     "data": {
      "text/html": [
       "<style  type=\"text/css\" >\n",
       "</style><table id=\"T_2dace28c_c0fb_11e9_8d9b_7831c1b7f7c4\" ><thead>    <tr>        <th class=\"blank level0\" ></th>        <th class=\"col_heading level0 col0\" >Purchase Count</th>        <th class=\"col_heading level0 col1\" >Total Purchase Value</th>        <th class=\"col_heading level0 col2\" >Average Purchase Price</th>    </tr>    <tr>        <th class=\"index_name level0\" >SN</th>        <th class=\"blank\" ></th>        <th class=\"blank\" ></th>        <th class=\"blank\" ></th>    </tr></thead><tbody>\n",
       "                <tr>\n",
       "                        <th id=\"T_2dace28c_c0fb_11e9_8d9b_7831c1b7f7c4level0_row0\" class=\"row_heading level0 row0\" >Lisosia93</th>\n",
       "                        <td id=\"T_2dace28c_c0fb_11e9_8d9b_7831c1b7f7c4row0_col0\" class=\"data row0 col0\" >5</td>\n",
       "                        <td id=\"T_2dace28c_c0fb_11e9_8d9b_7831c1b7f7c4row0_col1\" class=\"data row0 col1\" >$18.96</td>\n",
       "                        <td id=\"T_2dace28c_c0fb_11e9_8d9b_7831c1b7f7c4row0_col2\" class=\"data row0 col2\" >$3.79</td>\n",
       "            </tr>\n",
       "            <tr>\n",
       "                        <th id=\"T_2dace28c_c0fb_11e9_8d9b_7831c1b7f7c4level0_row1\" class=\"row_heading level0 row1\" >Idastidru52</th>\n",
       "                        <td id=\"T_2dace28c_c0fb_11e9_8d9b_7831c1b7f7c4row1_col0\" class=\"data row1 col0\" >4</td>\n",
       "                        <td id=\"T_2dace28c_c0fb_11e9_8d9b_7831c1b7f7c4row1_col1\" class=\"data row1 col1\" >$15.45</td>\n",
       "                        <td id=\"T_2dace28c_c0fb_11e9_8d9b_7831c1b7f7c4row1_col2\" class=\"data row1 col2\" >$3.86</td>\n",
       "            </tr>\n",
       "            <tr>\n",
       "                        <th id=\"T_2dace28c_c0fb_11e9_8d9b_7831c1b7f7c4level0_row2\" class=\"row_heading level0 row2\" >Chamjask73</th>\n",
       "                        <td id=\"T_2dace28c_c0fb_11e9_8d9b_7831c1b7f7c4row2_col0\" class=\"data row2 col0\" >3</td>\n",
       "                        <td id=\"T_2dace28c_c0fb_11e9_8d9b_7831c1b7f7c4row2_col1\" class=\"data row2 col1\" >$13.83</td>\n",
       "                        <td id=\"T_2dace28c_c0fb_11e9_8d9b_7831c1b7f7c4row2_col2\" class=\"data row2 col2\" >$4.61</td>\n",
       "            </tr>\n",
       "            <tr>\n",
       "                        <th id=\"T_2dace28c_c0fb_11e9_8d9b_7831c1b7f7c4level0_row3\" class=\"row_heading level0 row3\" >Iral74</th>\n",
       "                        <td id=\"T_2dace28c_c0fb_11e9_8d9b_7831c1b7f7c4row3_col0\" class=\"data row3 col0\" >4</td>\n",
       "                        <td id=\"T_2dace28c_c0fb_11e9_8d9b_7831c1b7f7c4row3_col1\" class=\"data row3 col1\" >$13.62</td>\n",
       "                        <td id=\"T_2dace28c_c0fb_11e9_8d9b_7831c1b7f7c4row3_col2\" class=\"data row3 col2\" >$3.40</td>\n",
       "            </tr>\n",
       "            <tr>\n",
       "                        <th id=\"T_2dace28c_c0fb_11e9_8d9b_7831c1b7f7c4level0_row4\" class=\"row_heading level0 row4\" >Iskadarya95</th>\n",
       "                        <td id=\"T_2dace28c_c0fb_11e9_8d9b_7831c1b7f7c4row4_col0\" class=\"data row4 col0\" >3</td>\n",
       "                        <td id=\"T_2dace28c_c0fb_11e9_8d9b_7831c1b7f7c4row4_col1\" class=\"data row4 col1\" >$13.10</td>\n",
       "                        <td id=\"T_2dace28c_c0fb_11e9_8d9b_7831c1b7f7c4row4_col2\" class=\"data row4 col2\" >$4.37</td>\n",
       "            </tr>\n",
       "    </tbody></table>"
      ],
      "text/plain": [
       "<pandas.io.formats.style.Styler at 0x11b5227f0>"
      ]
     },
     "execution_count": 9,
     "metadata": {},
     "output_type": "execute_result"
    }
   ],
   "source": [
    "# Calculate purchase count and total purchase value\n",
    "purchase_count_SN = pd.DataFrame(purchase_data.groupby('SN')[\"Price\"].count())\n",
    "purchase_amount_SN = pd.DataFrame(purchase_data.groupby('SN')[\"Price\"].sum())\n",
    "\n",
    "# Merge dataframes for purchase count and total purchase value and name columns\n",
    "top_spenders = pd.merge(purchase_count_SN, purchase_amount_SN, left_index = True, right_index = True)\n",
    "top_spenders.columns = ['Purchase Count' , 'Total Purchase Value']\n",
    "\n",
    "# Calculate average purchase price and add this new column\n",
    "top_spenders['Average Purchase Price'] = top_spenders['Total Purchase Value'] / top_spenders['Purchase Count']\n",
    "\n",
    "# Sort by total purchase value (descending), show only top 5 spenders, and format\n",
    "top_spenders_final = top_spenders.sort_values('Total Purchase Value', ascending = False)\n",
    "top_spenders_5 = top_spenders_final.head(5)\n",
    "top_spenders_5.style.format({'Total Purchase Value' : '${:,.2f}','Average Purchase Price' : '${:.2f}'})"
   ]
  },
  {
   "cell_type": "markdown",
   "metadata": {},
   "source": [
    "# Most Popular Items"
   ]
  },
  {
   "cell_type": "code",
   "execution_count": 10,
   "metadata": {},
   "outputs": [
    {
     "data": {
      "text/html": [
       "<style  type=\"text/css\" >\n",
       "</style><table id=\"T_2e78689e_c0fb_11e9_8d9b_7831c1b7f7c4\" ><thead>    <tr>        <th class=\"blank\" ></th>        <th class=\"blank level0\" ></th>        <th class=\"col_heading level0 col0\" >Purchase Count</th>        <th class=\"col_heading level0 col1\" >Item Price</th>        <th class=\"col_heading level0 col2\" >Total Purchase Value</th>    </tr>    <tr>        <th class=\"index_name level0\" >Item ID</th>        <th class=\"index_name level1\" >Item Name</th>        <th class=\"blank\" ></th>        <th class=\"blank\" ></th>        <th class=\"blank\" ></th>    </tr></thead><tbody>\n",
       "                <tr>\n",
       "                        <th id=\"T_2e78689e_c0fb_11e9_8d9b_7831c1b7f7c4level0_row0\" class=\"row_heading level0 row0\" >178</th>\n",
       "                        <th id=\"T_2e78689e_c0fb_11e9_8d9b_7831c1b7f7c4level1_row0\" class=\"row_heading level1 row0\" >Oathbreaker, Last Hope of the Breaking Storm</th>\n",
       "                        <td id=\"T_2e78689e_c0fb_11e9_8d9b_7831c1b7f7c4row0_col0\" class=\"data row0 col0\" >12</td>\n",
       "                        <td id=\"T_2e78689e_c0fb_11e9_8d9b_7831c1b7f7c4row0_col1\" class=\"data row0 col1\" >$4.23</td>\n",
       "                        <td id=\"T_2e78689e_c0fb_11e9_8d9b_7831c1b7f7c4row0_col2\" class=\"data row0 col2\" >$50.76</td>\n",
       "            </tr>\n",
       "            <tr>\n",
       "                        <th id=\"T_2e78689e_c0fb_11e9_8d9b_7831c1b7f7c4level0_row1\" class=\"row_heading level0 row1\" >145</th>\n",
       "                        <th id=\"T_2e78689e_c0fb_11e9_8d9b_7831c1b7f7c4level1_row1\" class=\"row_heading level1 row1\" >Fiery Glass Crusader</th>\n",
       "                        <td id=\"T_2e78689e_c0fb_11e9_8d9b_7831c1b7f7c4row1_col0\" class=\"data row1 col0\" >9</td>\n",
       "                        <td id=\"T_2e78689e_c0fb_11e9_8d9b_7831c1b7f7c4row1_col1\" class=\"data row1 col1\" >$4.58</td>\n",
       "                        <td id=\"T_2e78689e_c0fb_11e9_8d9b_7831c1b7f7c4row1_col2\" class=\"data row1 col2\" >$41.22</td>\n",
       "            </tr>\n",
       "            <tr>\n",
       "                        <th id=\"T_2e78689e_c0fb_11e9_8d9b_7831c1b7f7c4level0_row2\" class=\"row_heading level0 row2\" >108</th>\n",
       "                        <th id=\"T_2e78689e_c0fb_11e9_8d9b_7831c1b7f7c4level1_row2\" class=\"row_heading level1 row2\" >Extraction, Quickblade Of Trembling Hands</th>\n",
       "                        <td id=\"T_2e78689e_c0fb_11e9_8d9b_7831c1b7f7c4row2_col0\" class=\"data row2 col0\" >9</td>\n",
       "                        <td id=\"T_2e78689e_c0fb_11e9_8d9b_7831c1b7f7c4row2_col1\" class=\"data row2 col1\" >$3.53</td>\n",
       "                        <td id=\"T_2e78689e_c0fb_11e9_8d9b_7831c1b7f7c4row2_col2\" class=\"data row2 col2\" >$31.77</td>\n",
       "            </tr>\n",
       "            <tr>\n",
       "                        <th id=\"T_2e78689e_c0fb_11e9_8d9b_7831c1b7f7c4level0_row3\" class=\"row_heading level0 row3\" >82</th>\n",
       "                        <th id=\"T_2e78689e_c0fb_11e9_8d9b_7831c1b7f7c4level1_row3\" class=\"row_heading level1 row3\" >Nirvana</th>\n",
       "                        <td id=\"T_2e78689e_c0fb_11e9_8d9b_7831c1b7f7c4row3_col0\" class=\"data row3 col0\" >9</td>\n",
       "                        <td id=\"T_2e78689e_c0fb_11e9_8d9b_7831c1b7f7c4row3_col1\" class=\"data row3 col1\" >$4.90</td>\n",
       "                        <td id=\"T_2e78689e_c0fb_11e9_8d9b_7831c1b7f7c4row3_col2\" class=\"data row3 col2\" >$44.10</td>\n",
       "            </tr>\n",
       "            <tr>\n",
       "                        <th id=\"T_2e78689e_c0fb_11e9_8d9b_7831c1b7f7c4level0_row4\" class=\"row_heading level0 row4\" >19</th>\n",
       "                        <th id=\"T_2e78689e_c0fb_11e9_8d9b_7831c1b7f7c4level1_row4\" class=\"row_heading level1 row4\" >Pursuit, Cudgel of Necromancy</th>\n",
       "                        <td id=\"T_2e78689e_c0fb_11e9_8d9b_7831c1b7f7c4row4_col0\" class=\"data row4 col0\" >8</td>\n",
       "                        <td id=\"T_2e78689e_c0fb_11e9_8d9b_7831c1b7f7c4row4_col1\" class=\"data row4 col1\" >$1.02</td>\n",
       "                        <td id=\"T_2e78689e_c0fb_11e9_8d9b_7831c1b7f7c4row4_col2\" class=\"data row4 col2\" >$8.16</td>\n",
       "            </tr>\n",
       "    </tbody></table>"
      ],
      "text/plain": [
       "<pandas.io.formats.style.Styler at 0x11b4fe9e8>"
      ]
     },
     "execution_count": 10,
     "metadata": {},
     "output_type": "execute_result"
    }
   ],
   "source": [
    "# Calculate item price, purchase count, and total value grouped by Item ID and Item Name\n",
    "item_purchase_count = purchase_data.groupby(['Item ID', 'Item Name']).count()[\"Price\"]\n",
    "item_price = purchase_data.groupby(['Item ID', 'Item Name']).mean()[\"Price\"]\n",
    "item_total_value = purchase_data.groupby(['Item ID', 'Item Name']).sum()[\"Price\"]\n",
    "\n",
    "# Create a dataframe with new column names\n",
    "top_items = pd.DataFrame({\"Purchase Count\" : item_purchase_count, \"Item Price\" : item_price, \"Total Purchase Value\" : item_total_value})\n",
    "\n",
    "# Sort by descending purchase count, limit to top 5 popular items, and format dollar values\n",
    "top_items_final = top_items.sort_values('Purchase Count', ascending = False)\n",
    "top_items_5 = top_items_final.head(5)\n",
    "top_items_5.style.format({'Item Price' : '${:.2f}',\"Total Purchase Value\" : '${:.2f}'})\n"
   ]
  },
  {
   "cell_type": "markdown",
   "metadata": {},
   "source": [
    "# Most Profitable Items"
   ]
  },
  {
   "cell_type": "code",
   "execution_count": 11,
   "metadata": {},
   "outputs": [
    {
     "data": {
      "text/html": [
       "<style  type=\"text/css\" >\n",
       "</style><table id=\"T_2f338f48_c0fb_11e9_8d9b_7831c1b7f7c4\" ><thead>    <tr>        <th class=\"blank\" ></th>        <th class=\"blank level0\" ></th>        <th class=\"col_heading level0 col0\" >Purchase Count</th>        <th class=\"col_heading level0 col1\" >Item Price</th>        <th class=\"col_heading level0 col2\" >Total Purchase Value</th>    </tr>    <tr>        <th class=\"index_name level0\" >Item ID</th>        <th class=\"index_name level1\" >Item Name</th>        <th class=\"blank\" ></th>        <th class=\"blank\" ></th>        <th class=\"blank\" ></th>    </tr></thead><tbody>\n",
       "                <tr>\n",
       "                        <th id=\"T_2f338f48_c0fb_11e9_8d9b_7831c1b7f7c4level0_row0\" class=\"row_heading level0 row0\" >178</th>\n",
       "                        <th id=\"T_2f338f48_c0fb_11e9_8d9b_7831c1b7f7c4level1_row0\" class=\"row_heading level1 row0\" >Oathbreaker, Last Hope of the Breaking Storm</th>\n",
       "                        <td id=\"T_2f338f48_c0fb_11e9_8d9b_7831c1b7f7c4row0_col0\" class=\"data row0 col0\" >12</td>\n",
       "                        <td id=\"T_2f338f48_c0fb_11e9_8d9b_7831c1b7f7c4row0_col1\" class=\"data row0 col1\" >$4.23</td>\n",
       "                        <td id=\"T_2f338f48_c0fb_11e9_8d9b_7831c1b7f7c4row0_col2\" class=\"data row0 col2\" >$50.76</td>\n",
       "            </tr>\n",
       "            <tr>\n",
       "                        <th id=\"T_2f338f48_c0fb_11e9_8d9b_7831c1b7f7c4level0_row1\" class=\"row_heading level0 row1\" >82</th>\n",
       "                        <th id=\"T_2f338f48_c0fb_11e9_8d9b_7831c1b7f7c4level1_row1\" class=\"row_heading level1 row1\" >Nirvana</th>\n",
       "                        <td id=\"T_2f338f48_c0fb_11e9_8d9b_7831c1b7f7c4row1_col0\" class=\"data row1 col0\" >9</td>\n",
       "                        <td id=\"T_2f338f48_c0fb_11e9_8d9b_7831c1b7f7c4row1_col1\" class=\"data row1 col1\" >$4.90</td>\n",
       "                        <td id=\"T_2f338f48_c0fb_11e9_8d9b_7831c1b7f7c4row1_col2\" class=\"data row1 col2\" >$44.10</td>\n",
       "            </tr>\n",
       "            <tr>\n",
       "                        <th id=\"T_2f338f48_c0fb_11e9_8d9b_7831c1b7f7c4level0_row2\" class=\"row_heading level0 row2\" >145</th>\n",
       "                        <th id=\"T_2f338f48_c0fb_11e9_8d9b_7831c1b7f7c4level1_row2\" class=\"row_heading level1 row2\" >Fiery Glass Crusader</th>\n",
       "                        <td id=\"T_2f338f48_c0fb_11e9_8d9b_7831c1b7f7c4row2_col0\" class=\"data row2 col0\" >9</td>\n",
       "                        <td id=\"T_2f338f48_c0fb_11e9_8d9b_7831c1b7f7c4row2_col1\" class=\"data row2 col1\" >$4.58</td>\n",
       "                        <td id=\"T_2f338f48_c0fb_11e9_8d9b_7831c1b7f7c4row2_col2\" class=\"data row2 col2\" >$41.22</td>\n",
       "            </tr>\n",
       "            <tr>\n",
       "                        <th id=\"T_2f338f48_c0fb_11e9_8d9b_7831c1b7f7c4level0_row3\" class=\"row_heading level0 row3\" >92</th>\n",
       "                        <th id=\"T_2f338f48_c0fb_11e9_8d9b_7831c1b7f7c4level1_row3\" class=\"row_heading level1 row3\" >Final Critic</th>\n",
       "                        <td id=\"T_2f338f48_c0fb_11e9_8d9b_7831c1b7f7c4row3_col0\" class=\"data row3 col0\" >8</td>\n",
       "                        <td id=\"T_2f338f48_c0fb_11e9_8d9b_7831c1b7f7c4row3_col1\" class=\"data row3 col1\" >$4.88</td>\n",
       "                        <td id=\"T_2f338f48_c0fb_11e9_8d9b_7831c1b7f7c4row3_col2\" class=\"data row3 col2\" >$39.04</td>\n",
       "            </tr>\n",
       "            <tr>\n",
       "                        <th id=\"T_2f338f48_c0fb_11e9_8d9b_7831c1b7f7c4level0_row4\" class=\"row_heading level0 row4\" >103</th>\n",
       "                        <th id=\"T_2f338f48_c0fb_11e9_8d9b_7831c1b7f7c4level1_row4\" class=\"row_heading level1 row4\" >Singed Scalpel</th>\n",
       "                        <td id=\"T_2f338f48_c0fb_11e9_8d9b_7831c1b7f7c4row4_col0\" class=\"data row4 col0\" >8</td>\n",
       "                        <td id=\"T_2f338f48_c0fb_11e9_8d9b_7831c1b7f7c4row4_col1\" class=\"data row4 col1\" >$4.35</td>\n",
       "                        <td id=\"T_2f338f48_c0fb_11e9_8d9b_7831c1b7f7c4row4_col2\" class=\"data row4 col2\" >$34.80</td>\n",
       "            </tr>\n",
       "    </tbody></table>"
      ],
      "text/plain": [
       "<pandas.io.formats.style.Styler at 0x11a37cd68>"
      ]
     },
     "execution_count": 11,
     "metadata": {},
     "output_type": "execute_result"
    }
   ],
   "source": [
    "# Sort by descending total purchase value\n",
    "profitable_items = top_items.sort_values('Total Purchase Value', ascending = False)\n",
    "\n",
    "# Limit to top 5 profitable items\n",
    "profitable_items_5 = profitable_items.head(5)\n",
    "\n",
    "# Format dollar values\n",
    "profitable_items_5.style.format({'Item Price' : '${:.2f}',\"Total Purchase Value\" : '${:.2f}'})"
   ]
  },
  {
   "cell_type": "markdown",
   "metadata": {},
   "source": [
    "# Three Observable Trends\n",
    "\n",
    "1. Although the vast majority of Heroes of Pymoli players are male, the average purchase for females is greater.\n",
    "\n",
    "2. Ages 20 to 24 make up the greatest total purchase value, but ages 35 to 39 spend the most per person on average. It could be that people in this older age group are playing, or maybe they are purchasing items for their children who are playing the game.  \n",
    "\n",
    "3. The top 5 spenders are all between 20 and 25 years old, and 4 of them are male.\n",
    "\n",
    "4. Some items have more than one Item ID."
   ]
  },
  {
   "cell_type": "code",
   "execution_count": null,
   "metadata": {},
   "outputs": [],
   "source": []
  }
 ],
 "metadata": {
  "kernelspec": {
   "display_name": "Python 3",
   "language": "python",
   "name": "python3"
  },
  "language_info": {
   "codemirror_mode": {
    "name": "ipython",
    "version": 3
   },
   "file_extension": ".py",
   "mimetype": "text/x-python",
   "name": "python",
   "nbconvert_exporter": "python",
   "pygments_lexer": "ipython3",
   "version": "3.7.3"
  }
 },
 "nbformat": 4,
 "nbformat_minor": 2
}
